{
 "cells": [
  {
   "cell_type": "code",
   "execution_count": 1,
   "id": "f9919ad1-e004-44ba-bb37-bdf2554ec43c",
   "metadata": {},
   "outputs": [],
   "source": [
    "import numpy as np"
   ]
  },
  {
   "cell_type": "code",
   "execution_count": 2,
   "id": "fd918763-deaa-418c-afae-b7b5736cb337",
   "metadata": {},
   "outputs": [],
   "source": [
    "import time"
   ]
  },
  {
   "cell_type": "code",
   "execution_count": 3,
   "id": "3f2ab7a6-a25a-422a-a718-ce6fe944f46b",
   "metadata": {},
   "outputs": [],
   "source": [
    "a = np.random.rand(1000000)"
   ]
  },
  {
   "cell_type": "code",
   "execution_count": 4,
   "id": "9c260467-95cf-4c6c-9188-fa573104db5a",
   "metadata": {},
   "outputs": [],
   "source": [
    "b = np.random.rand(1000000)"
   ]
  },
  {
   "cell_type": "code",
   "execution_count": 5,
   "id": "44c171a4-7c63-407b-81fe-5c2973017075",
   "metadata": {},
   "outputs": [
    {
     "name": "stdout",
     "output_type": "stream",
     "text": [
      "a is:  [0.15193499 0.35142581 0.85783118 ... 0.74105885 0.46754354 0.19722887]\n"
     ]
    }
   ],
   "source": [
    "print(\"a is: \",a)"
   ]
  },
  {
   "cell_type": "code",
   "execution_count": 6,
   "id": "1847eecf-19c5-4468-8aee-f605d0133fe6",
   "metadata": {},
   "outputs": [
    {
     "name": "stdout",
     "output_type": "stream",
     "text": [
      "b is:  [0.54471033 0.32191462 0.61065199 ... 0.47130719 0.11958036 0.24464989]\n"
     ]
    }
   ],
   "source": [
    "print(\"b is: \",b)"
   ]
  },
  {
   "cell_type": "code",
   "execution_count": 7,
   "id": "19dbb87a-2347-4f10-a2f8-9d39da9e66bb",
   "metadata": {},
   "outputs": [],
   "source": [
    "tic=time.time()"
   ]
  },
  {
   "cell_type": "code",
   "execution_count": 8,
   "id": "7a829df5-f99b-4a97-a9c7-3fd1b8ac178d",
   "metadata": {},
   "outputs": [],
   "source": [
    "c=np.dot(a,b)"
   ]
  },
  {
   "cell_type": "code",
   "execution_count": 9,
   "id": "555ad730-7720-40c9-af8a-e40e6fb1fbd7",
   "metadata": {},
   "outputs": [],
   "source": [
    "toc=time.time()"
   ]
  },
  {
   "cell_type": "code",
   "execution_count": 10,
   "id": "48d272e9-3fd8-4347-ba7f-45bc9f78c809",
   "metadata": {},
   "outputs": [
    {
     "name": "stdout",
     "output_type": "stream",
     "text": [
      "249945.0005507682\n"
     ]
    }
   ],
   "source": [
    "print(c)"
   ]
  },
  {
   "cell_type": "code",
   "execution_count": 11,
   "id": "f1947802-7314-4a77-a7f5-a8a22f17109b",
   "metadata": {},
   "outputs": [
    {
     "name": "stdout",
     "output_type": "stream",
     "text": [
      "Vectorized Version: 15623.170852661133 ms\n"
     ]
    }
   ],
   "source": [
    "print(\"Vectorized Version: \"+str((1000)*(toc-tic))+\t\" ms\")"
   ]
  },
  {
   "cell_type": "code",
   "execution_count": 12,
   "id": "6c763ecb-69ee-4247-898a-e932c38b35b1",
   "metadata": {},
   "outputs": [
    {
     "name": "stdout",
     "output_type": "stream",
     "text": [
      "## Non Vectorized ##\n"
     ]
    }
   ],
   "source": [
    "print(\"## Non Vectorized ##\")"
   ]
  },
  {
   "cell_type": "code",
   "execution_count": 13,
   "id": "61cb9c60-d98f-424b-be91-5104edd3089a",
   "metadata": {},
   "outputs": [],
   "source": [
    "tic=time.time()"
   ]
  },
  {
   "cell_type": "code",
   "execution_count": 14,
   "id": "5692dc0a-0bce-459a-aae6-8f3b272540d7",
   "metadata": {},
   "outputs": [],
   "source": [
    "for i in range(1000000):\n",
    "    c+= a[i]*b[i]"
   ]
  },
  {
   "cell_type": "code",
   "execution_count": 15,
   "id": "302d2f39-f43b-437b-9755-d0a1df544be6",
   "metadata": {},
   "outputs": [],
   "source": [
    "toc=time.time()"
   ]
  },
  {
   "cell_type": "code",
   "execution_count": 16,
   "id": "7a20484b-2fff-4e96-9092-aff0f70adab2",
   "metadata": {},
   "outputs": [
    {
     "name": "stdout",
     "output_type": "stream",
     "text": [
      "499890.00110153167\n"
     ]
    }
   ],
   "source": [
    "print(c)"
   ]
  },
  {
   "cell_type": "code",
   "execution_count": 17,
   "id": "a5d09dda-2ec3-481f-b46e-6b0262c11a80",
   "metadata": {},
   "outputs": [
    {
     "name": "stdout",
     "output_type": "stream",
     "text": [
      "for loop: 25344.489336013794 ms\n"
     ]
    }
   ],
   "source": [
    "print(\"for loop: \"+str((1000)*(toc-tic))+ \" ms\")"
   ]
  },
  {
   "cell_type": "code",
   "execution_count": null,
   "id": "3ec80403-39f7-469d-b2b7-6e8ac30fef58",
   "metadata": {},
   "outputs": [],
   "source": []
  }
 ],
 "metadata": {
  "kernelspec": {
   "display_name": "Python 3.8.6 64-bit",
   "language": "python",
   "name": "python3"
  },
  "language_info": {
   "codemirror_mode": {
    "name": "ipython",
    "version": 3
   },
   "file_extension": ".py",
   "mimetype": "text/x-python",
   "name": "python",
   "nbconvert_exporter": "python",
   "pygments_lexer": "ipython3",
   "version": "3.8.6"
  },
  "vscode": {
   "interpreter": {
    "hash": "acbeda3e2afc47dea60c7a447d3413ca983aafb2fbb2f359049c3f5050e78f8f"
   }
  }
 },
 "nbformat": 4,
 "nbformat_minor": 5
}
