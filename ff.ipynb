{
 "cells": [
  {
   "cell_type": "code",
   "execution_count": 25,
   "id": "56e82628",
   "metadata": {},
   "outputs": [],
   "source": [
    "import numpy as np"
   ]
  },
  {
   "cell_type": "code",
   "execution_count": 26,
   "id": "3e09c8b9",
   "metadata": {},
   "outputs": [],
   "source": [
    "import time"
   ]
  },
  {
   "cell_type": "code",
   "execution_count": 27,
   "id": "e75b7601",
   "metadata": {},
   "outputs": [],
   "source": [
    "a = np.random.rand(1000000)"
   ]
  },
  {
   "cell_type": "code",
   "execution_count": 28,
   "id": "46f01ecc",
   "metadata": {},
   "outputs": [],
   "source": [
    "b = np.random.rand(1000000)"
   ]
  },
  {
   "cell_type": "code",
   "execution_count": 29,
   "id": "ee621f4c",
   "metadata": {},
   "outputs": [
    {
     "name": "stdout",
     "output_type": "stream",
     "text": [
      "a is:  [0.54830931 0.59719764 0.11057939 ... 0.553154   0.6527938  0.8964732 ]\n"
     ]
    }
   ],
   "source": [
    "print(\"a is: \",a)"
   ]
  },
  {
   "cell_type": "code",
   "execution_count": 30,
   "id": "ec720bfc",
   "metadata": {},
   "outputs": [
    {
     "name": "stdout",
     "output_type": "stream",
     "text": [
      "b is:  [0.83125867 0.16266091 0.68232967 ... 0.3695105  0.32081666 0.28230217]\n"
     ]
    }
   ],
   "source": [
    "print(\"b is: \",b)"
   ]
  },
  {
   "cell_type": "code",
   "execution_count": 31,
   "id": "1f889f5c",
   "metadata": {},
   "outputs": [],
   "source": [
    "tic=time.time()"
   ]
  },
  {
   "cell_type": "code",
   "execution_count": 32,
   "id": "5b9d2ddb",
   "metadata": {},
   "outputs": [],
   "source": [
    "c=np.dot(a,b)"
   ]
  },
  {
   "cell_type": "code",
   "execution_count": 33,
   "id": "b8b20ce6",
   "metadata": {},
   "outputs": [],
   "source": [
    "toc=time.time()"
   ]
  },
  {
   "cell_type": "code",
   "execution_count": 34,
   "id": "d792cf26",
   "metadata": {},
   "outputs": [
    {
     "name": "stdout",
     "output_type": "stream",
     "text": [
      "249986.33246136503\n"
     ]
    }
   ],
   "source": [
    "print(c)"
   ]
  },
  {
   "cell_type": "code",
   "execution_count": 35,
   "id": "838fae9c",
   "metadata": {},
   "outputs": [
    {
     "name": "stdout",
     "output_type": "stream",
     "text": [
      "Vectorized Version: 8.68082046508789 ms\n"
     ]
    }
   ],
   "source": [
    "print(\"Vectorized Version: \"+str((1000)*(toc-tic))+\t\" ms\")"
   ]
  },
  {
   "cell_type": "code",
   "execution_count": 36,
   "id": "7917d16e",
   "metadata": {},
   "outputs": [
    {
     "name": "stdout",
     "output_type": "stream",
     "text": [
      "## Non Vectorized ##\n"
     ]
    }
   ],
   "source": [
    "print(\"## Non Vectorized ##\")"
   ]
  },
  {
   "cell_type": "code",
   "execution_count": 37,
   "id": "55b63a54",
   "metadata": {},
   "outputs": [],
   "source": [
    "tic=time.time()"
   ]
  },
  {
   "cell_type": "code",
   "execution_count": 38,
   "id": "051ff9f7",
   "metadata": {},
   "outputs": [],
   "source": [
    "for i in range(1000000):\n",
    "    c+= a[i]*b[i]"
   ]
  },
  {
   "cell_type": "code",
   "execution_count": 39,
   "id": "c54d062d",
   "metadata": {},
   "outputs": [],
   "source": [
    "toc=time.time()"
   ]
  },
  {
   "cell_type": "code",
   "execution_count": 40,
   "id": "c74f0b04",
   "metadata": {},
   "outputs": [
    {
     "name": "stdout",
     "output_type": "stream",
     "text": [
      "499972.6649227266\n"
     ]
    }
   ],
   "source": [
    "print(c)"
   ]
  },
  {
   "cell_type": "code",
   "execution_count": 41,
   "id": "5c6aaee7",
   "metadata": {},
   "outputs": [
    {
     "name": "stdout",
     "output_type": "stream",
     "text": [
      "for loop: 282.17124938964844 ms\n"
     ]
    }
   ],
   "source": [
    "print(\"for loop: \"+str((1000)*(toc-tic))+ \" ms\")"
   ]
  }
 ],
 "metadata": {
  "kernelspec": {
   "display_name": "Python 3 (ipykernel)",
   "language": "python",
   "name": "python3"
  },
  "language_info": {
   "codemirror_mode": {
    "name": "ipython",
    "version": 3
   },
   "file_extension": ".py",
   "mimetype": "text/x-python",
   "name": "python",
   "nbconvert_exporter": "python",
   "pygments_lexer": "ipython3",
   "version": "3.8.6"
  }
 },
 "nbformat": 4,
 "nbformat_minor": 5
}
